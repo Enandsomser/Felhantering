{
 "metadata": {
  "language_info": {
   "codemirror_mode": {
    "name": "ipython",
    "version": 3
   },
   "file_extension": ".py",
   "mimetype": "text/x-python",
   "name": "python",
   "nbconvert_exporter": "python",
   "pygments_lexer": "ipython3",
   "version": "3.8.3-final"
  },
  "orig_nbformat": 2,
  "kernelspec": {
   "name": "python3",
   "display_name": "Python 3.8.3 64-bit (conda)",
   "metadata": {
    "interpreter": {
     "hash": "dd4874f22ca07607b71810ac979f514e6dcd60143f9ca1819c28576b76dfd274"
    }
   }
  }
 },
 "nbformat": 4,
 "nbformat_minor": 2,
 "cells": [
  {
   "source": [
    "#Up.1\n",
    "#impor numpy as np\n",
    "\n",
    "#def distance(x, y):\n",
    "#   reurn np.sqrt(x+y)\n",
    "\n",
    "#print(distance([0.5,0.5]))\n",
    "\n",
    "import numpy as np\n",
    "\n",
    "def distance(x, y):\n",
    "    return np.sqrt(x+y)\n",
    "\n",
    "print(distance(0.5, 0.5))"
   ],
   "cell_type": "code",
   "metadata": {},
   "execution_count": null,
   "outputs": []
  },
  {
   "cell_type": "code",
   "execution_count": 20,
   "metadata": {},
   "outputs": [
    {
     "output_type": "stream",
     "name": "stdout",
     "text": [
      "100 är inte fyrsiffrigt\n231 är inte fyrsiffrigt\n10000 är inte fyrsiffrigt\n10001 är inte fyrsiffrigt\n-1000 är fyrsiffrigt\n102313 är inte fyrsiffrigt\n"
     ]
    }
   ],
   "source": [
    "#Up.2\n",
    "def ar_fyrsiffrigt(tal):\n",
    "    if tal/1000<10 and tal/1000>=1:\n",
    "        return True\n",
    "    elif tal/1000>-10 and tal/1000<=-1:\n",
    "        return True\n",
    "    else:\n",
    "        return False\n",
    "    \n",
    "testtal=[100,231,10000,10001,-1000,102313]\n",
    "\n",
    "for t in testtal:\n",
    "    if ar_fyrsiffrigt(t):\n",
    "        print(f\"{t} är fyrsiffrigt\")\n",
    "    else:\n",
    "        print(f\"{t} är inte fyrsiffrigt\")"
   ]
  },
  {
   "cell_type": "code",
   "execution_count": 7,
   "metadata": {},
   "outputs": [
    {
     "output_type": "stream",
     "name": "stdout",
     "text": [
      "Fel värde, ange pris igen(måste vara siffra)\n",
      "Fel värde, ange pris igen(måste vara siffra)\n",
      "Fel värde, ange månadspris igen(måste vara siffra)\n",
      "Fel värde, ange anntal gånger du ska åka igen(måste vara siffra)\n",
      "Att köpa månadsbiljeten är billigare.\n"
     ]
    }
   ],
   "source": [
    "#Up.3\n",
    "while(True):\n",
    "    try:\n",
    "        x=int(input(\"Hur mycket kostar en engångsbiljet?\"))\n",
    "    except:\n",
    "        print(\"Fel värde, ange pris igen(måste vara siffra)\")\n",
    "        continue\n",
    "    else:\n",
    "        break\n",
    "while(True):\n",
    "    try:    \n",
    "        y=int(input(\"Hur mycket kostar en månadsbiljett?\"))\n",
    "    except:\n",
    "        print(\"Fel värde, ange månadspris igen(måste vara siffra)\")\n",
    "        continue\n",
    "    else:\n",
    "        break\n",
    "while(True):\n",
    "    try:\n",
    "        z=int(input(\"Hur många gånger ska då åka denna månad?\"))\n",
    "    except:\n",
    "        print(\"Fel värde, ange anntal gånger du ska åka igen(måste vara siffra)\")\n",
    "    else:\n",
    "        break\n",
    "    \n",
    "baraenkel=x*z\n",
    "skillnad=y-baraenkel\n",
    "if skillnad < 0: \n",
    "    print(\"Att köpa månadsbiljeten är billigare.\")\n",
    "else:\n",
    "    print(\"Att köpa månadsbiljeten är inte billigare\")\n",
    "    \n",
    "\n",
    "\n"
   ]
  },
  {
   "cell_type": "code",
   "execution_count": null,
   "metadata": {},
   "outputs": [],
   "source": []
  }
 ]
}